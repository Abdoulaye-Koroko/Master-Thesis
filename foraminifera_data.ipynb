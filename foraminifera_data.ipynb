{
 "cells": [
  {
   "cell_type": "code",
   "execution_count": 132,
   "metadata": {},
   "outputs": [],
   "source": [
    "import numpy as np\n",
    "import pandas as pd\n",
    "import matplotlib.pyplot as plt\n",
    "import cv2"
   ]
  },
  {
   "cell_type": "code",
   "execution_count": 133,
   "metadata": {},
   "outputs": [
    {
     "data": {
      "text/html": [
       "<div>\n",
       "<style scoped>\n",
       "    .dataframe tbody tr th:only-of-type {\n",
       "        vertical-align: middle;\n",
       "    }\n",
       "\n",
       "    .dataframe tbody tr th {\n",
       "        vertical-align: top;\n",
       "    }\n",
       "\n",
       "    .dataframe thead th {\n",
       "        text-align: right;\n",
       "    }\n",
       "</style>\n",
       "<table border=\"1\" class=\"dataframe\">\n",
       "  <thead>\n",
       "    <tr style=\"text-align: right;\">\n",
       "      <th></th>\n",
       "      <th>Class</th>\n",
       "      <th>Pos X</th>\n",
       "      <th>Pos Y</th>\n",
       "    </tr>\n",
       "  </thead>\n",
       "  <tbody>\n",
       "    <tr>\n",
       "      <th>0</th>\n",
       "      <td>Alveolina</td>\n",
       "      <td>93.0</td>\n",
       "      <td>343.0</td>\n",
       "    </tr>\n",
       "    <tr>\n",
       "      <th>1</th>\n",
       "      <td>Alveolina</td>\n",
       "      <td>72.0</td>\n",
       "      <td>340.0</td>\n",
       "    </tr>\n",
       "    <tr>\n",
       "      <th>2</th>\n",
       "      <td>Alveolina</td>\n",
       "      <td>44.0</td>\n",
       "      <td>357.0</td>\n",
       "    </tr>\n",
       "    <tr>\n",
       "      <th>3</th>\n",
       "      <td>Alveolina</td>\n",
       "      <td>33.0</td>\n",
       "      <td>379.0</td>\n",
       "    </tr>\n",
       "    <tr>\n",
       "      <th>4</th>\n",
       "      <td>Alveolina</td>\n",
       "      <td>136.0</td>\n",
       "      <td>450.0</td>\n",
       "    </tr>\n",
       "  </tbody>\n",
       "</table>\n",
       "</div>"
      ],
      "text/plain": [
       "       Class  Pos X  Pos Y\n",
       "0  Alveolina   93.0  343.0\n",
       "1  Alveolina   72.0  340.0\n",
       "2  Alveolina   44.0  357.0\n",
       "3  Alveolina   33.0  379.0\n",
       "4  Alveolina  136.0  450.0"
      ]
     },
     "execution_count": 133,
     "metadata": {},
     "output_type": "execute_result"
    }
   ],
   "source": [
    "data=pd.read_csv(\"YOURI/Annotations/B16.csv\",sep=\";\")\n",
    "data.head()"
   ]
  },
  {
   "cell_type": "code",
   "execution_count": 144,
   "metadata": {},
   "outputs": [],
   "source": [
    "import os\n",
    "import pickle\n",
    "Colors = pickle.load(open(\"pallete\", \"rb\"))\n",
    "colors=[Colors[7],Colors[8],Colors[13],Colors[14],Colors[40],Colors[96],Colors[29],Colors[53],Colors[25],Colors[68]]\n",
    "classes=list({'Alveolina',\n",
    " 'Assilina',\n",
    " 'Coral',\n",
    " 'Echinoderms (s.l.)',\n",
    " 'Gasteropods',\n",
    " 'Miliolids',\n",
    " 'Nummulites',\n",
    " 'Orbitolites',\n",
    " 'Red Algae'})\n",
    "def Point(csv_folder,image_folder,save_folder):\n",
    "    names=os.listdir(csv_folder)\n",
    "    all_classes=set()\n",
    "    for name in names:\n",
    "        if name==\".ipynb_checkpoints\":\n",
    "            break\n",
    "        data=pd.read_csv(os.path.join(csv_folder,name),sep=\";\",encoding='utf-8',engine='c')\n",
    "        image_path=os.path.join(image_folder,name[:-4]+\".jpg\")\n",
    "        image=cv2.imread(image_path)\n",
    "        data_classes=data[\"Class\"]\n",
    "        x=data[\"Pos X\"]\n",
    "        y=data[\"Pos Y\"]\n",
    "        for i in range(len(x)):\n",
    "            classe=data_classes[i]\n",
    "            color=colors[classes.index(classe)]\n",
    "            img = cv2.circle(image,(int(x[i]),int(y[i])), 5, color, -1)\n",
    "        \n",
    "        cv2.imwrite(os.path.join(save_folder,name[:-4]+\".jpg\"),img)\n",
    "    return True"
   ]
  },
  {
   "cell_type": "code",
   "execution_count": 145,
   "metadata": {},
   "outputs": [
    {
     "data": {
      "text/plain": [
       "True"
      ]
     },
     "execution_count": 145,
     "metadata": {},
     "output_type": "execute_result"
    }
   ],
   "source": [
    "csv_folder= \"YOURI/Annotations\"\n",
    "image_folder = \"YOURI/Scan-Lames\"\n",
    "save_folder= \"YOURI/Training_set\"\n",
    "Point(csv_folder,image_folder,save_folder)"
   ]
  },
  {
   "cell_type": "code",
   "execution_count": 150,
   "metadata": {},
   "outputs": [],
   "source": [
    "im=np.ones((1000,400,3))\n",
    "for i in range(len(classes)):\n",
    "    cv2.circle(im,(100,100+50*i),10,colors[i],-1)\n",
    "    #cv2.putText(im,classes[i],(100+50,100+100*i),colors[i])\n",
    "    cv2.putText(\n",
    "                    im,classes[i],\n",
    "                    (100+50,100+50*i), cv2.FONT_HERSHEY_PLAIN, 1,\n",
    "                    colors[i], 1)"
   ]
  },
  {
   "cell_type": "code",
   "execution_count": 151,
   "metadata": {},
   "outputs": [
    {
     "data": {
      "text/plain": [
       "True"
      ]
     },
     "execution_count": 151,
     "metadata": {},
     "output_type": "execute_result"
    }
   ],
   "source": [
    "cv2.imwrite(\"classes.jpg\",im)"
   ]
  },
  {
   "cell_type": "code",
   "execution_count": 149,
   "metadata": {},
   "outputs": [
    {
     "data": {
      "text/plain": [
       "9"
      ]
     },
     "execution_count": 149,
     "metadata": {},
     "output_type": "execute_result"
    }
   ],
   "source": [
    "len(classes)"
   ]
  },
  {
   "cell_type": "code",
   "execution_count": null,
   "metadata": {},
   "outputs": [],
   "source": []
  }
 ],
 "metadata": {
  "kernelspec": {
   "display_name": "Python 3",
   "language": "python",
   "name": "python3"
  },
  "language_info": {
   "codemirror_mode": {
    "name": "ipython",
    "version": 3
   },
   "file_extension": ".py",
   "mimetype": "text/x-python",
   "name": "python",
   "nbconvert_exporter": "python",
   "pygments_lexer": "ipython3",
   "version": "3.7.6"
  }
 },
 "nbformat": 4,
 "nbformat_minor": 4
}
